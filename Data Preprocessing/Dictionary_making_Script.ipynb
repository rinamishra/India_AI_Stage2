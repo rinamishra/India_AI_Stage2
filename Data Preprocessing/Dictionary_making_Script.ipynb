{
  "nbformat": 4,
  "nbformat_minor": 0,
  "metadata": {
    "colab": {
      "provenance": []
    },
    "kernelspec": {
      "name": "python3",
      "display_name": "Python 3"
    },
    "language_info": {
      "name": "python"
    }
  },
  "cells": [
    {
      "cell_type": "markdown",
      "source": [
        "This Code is identifying out of Dictionary words, which doesn't found in en_core_web_sm word dictionary."
      ],
      "metadata": {
        "id": "US0gownaTZ5f"
      }
    },
    {
      "cell_type": "code",
      "execution_count": null,
      "metadata": {
        "id": "Dg_cRFdfTUr4"
      },
      "outputs": [],
      "source": [
        "import pandas as pd\n",
        "import spacy\n",
        "\n",
        "# Load spaCy's Named Entity Recognition model\n",
        "nlp = spacy.load(\"en_core_web_sm\")\n",
        "\n",
        "def extract_ner(oov_words):\n",
        "    \"\"\"Extracts named entities from out-of-vocabulary words.\"\"\"\n",
        "    if not isinstance(oov_words, str) or oov_words.strip() == \"None\":\n",
        "        return \"None\"\n",
        "\n",
        "    doc = nlp(oov_words)\n",
        "    entities = [f\"{ent.text} ({ent.label_})\" for ent in doc.ents]\n",
        "\n",
        "    return \", \".join(entities) if entities else \"None\"\n",
        "\n",
        "# Load the dataset\n",
        "df = pd.read_csv(\"/content/drive/MyDrive/Dataset/cleaned_train_post_step3.csv\")\n",
        "\n",
        "# Apply function to get NER values\n",
        "df[\"NER_values\"] = df[\"out_of_vocabulary_words\"].apply(extract_ner)\n",
        "\n",
        "# Save the updated dataset\n",
        "df.to_csv(\"/content/drive/MyDrive/Dataset/cleaned_train_post_step4.csv\", index=False)\n",
        "\n",
        "print(\"NER processing complete! Check 'final_dataset_with_NER.csv'\")\n"
      ]
    },
    {
      "cell_type": "markdown",
      "source": [
        "By Applying IndicNER we could identify NER values from which useful words from out of dictionary words could be used in creating a dictionary of full form creation."
      ],
      "metadata": {
        "id": "kCu12YmTT5qj"
      }
    },
    {
      "cell_type": "code",
      "source": [
        "import pandas as pd\n",
        "from transformers import pipeline\n",
        "\n",
        "# Load Pretrained Indian NER Model\n",
        "ner_pipeline = pipeline(\"ner\", model=\"ai4bharat/IndicNER\", grouped_entities=True)\n",
        "\n",
        "def extract_transformer_ner(oov_words):\n",
        "    \"\"\"Uses a pretrained transformer model to extract NER from OOV words.\"\"\"\n",
        "    if not isinstance(oov_words, str) or oov_words.strip() == \"None\":\n",
        "        return \"None\"\n",
        "\n",
        "    entities = ner_pipeline(oov_words)\n",
        "    entity_labels = [f\"{ent['word']} ({ent['entity_group']})\" for ent in entities]\n",
        "\n",
        "    return \", \".join(entity_labels) if entity_labels else \"None\"\n",
        "\n",
        "# Load dataset with OOV words\n",
        "df = pd.read_csv(\"/content/drive/MyDrive/Dataset/cleaned_train_post_step3.csv\")\n",
        "\n",
        "# Apply Transformer-based NER function\n",
        "df[\"NER_values\"] = df[\"out_of_vocabulary_words\"].apply(extract_transformer_ner)\n",
        "\n",
        "# Save final dataset\n",
        "df.to_csv(\"final_dataset_with_transformer_NER.csv\", index=False)\n",
        "\n",
        "print(\"Transformer-based NER processing complete! Check 'final_dataset_with_transformer_NER.csv'\")\n"
      ],
      "metadata": {
        "id": "20R_C8CBT1qe"
      },
      "execution_count": null,
      "outputs": []
    }
  ]
}