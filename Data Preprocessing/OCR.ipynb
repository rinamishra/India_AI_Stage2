{
  "nbformat": 4,
  "nbformat_minor": 0,
  "metadata": {
    "colab": {
      "provenance": []
    },
    "kernelspec": {
      "name": "python3",
      "display_name": "Python 3"
    },
    "language_info": {
      "name": "python"
    }
  },
  "cells": [
    {
      "cell_type": "code",
      "execution_count": 13,
      "metadata": {
        "colab": {
          "base_uri": "https://localhost:8080/"
        },
        "id": "VO0W78c5m7iU",
        "outputId": "a256936d-e4b4-4a37-ca04-9e6bee35d10e"
      },
      "outputs": [
        {
          "output_type": "stream",
          "name": "stdout",
          "text": [
            "{'file': '/content/godaddy.png', 'contains_code': True, 'extracted_text': '© GoDaddy\\n\\nSign in\\n\\nNew to GoDaddy? Create an Account\\n\\n \\n\\nUsername or Customer # *\\n\\n \\n\\n \\n\\nPassword *\\n\\n \\n\\n \\n\\n \\n\\nLl Keep me signed in on this device\\n\\nor sign in with\\n\\n@||9|/|G\\n\\n \\n\\n \\n\\n \\n\\n \\n\\n \\n\\n \\n\\n \\n\\n \\n\\nNeed to find your username or you!\\n\\n \\n\\x0c'}\n"
          ]
        }
      ],
      "source": [
        "import pytesseract\n",
        "import fitz  # PyMuPDF\n",
        "import re\n",
        "import os\n",
        "from PIL import Image\n",
        "from io import BytesIO\n",
        "import filetype\n",
        "from pygments.lexers import guess_lexer\n",
        "from pygments.util import ClassNotFound\n",
        "\n",
        "def extract_text_from_image(image_path):\n",
        "    \"\"\"Extract text from an image using Tesseract OCR\"\"\"\n",
        "    img = Image.open(image_path)\n",
        "    text = pytesseract.image_to_string(img)\n",
        "    return text\n",
        "\n",
        "def extract_text_from_pdf(pdf_path):\n",
        "    \"\"\"Extract text from a PDF using PyMuPDF\"\"\"\n",
        "    text = \"\"\n",
        "    doc = fitz.open(pdf_path)\n",
        "    for page in doc:\n",
        "        text += page.get_text(\"text\") + \"\\n\"\n",
        "    return text\n",
        "\n",
        "def is_code(text):\n",
        "    \"\"\"Determine if extracted text is source code\"\"\"\n",
        "    # Simple heuristic: check for code-like patterns\n",
        "    patterns = [\n",
        "        r\"def\\s+\\w+\\(\",  # Python function definition\n",
        "        r\"#include\\s+<\\w+>\",  # C/C++ header includes\n",
        "        r\"public\\s+class\\s+\\w+\",  # Java class definition\n",
        "        r\"<\\s*\\w+\\s*>\",  # HTML tags\n",
        "        r\"\\bint\\s+\\w+\",  # Common variable declaration in C-like languages\n",
        "    ]\n",
        "    for pattern in patterns:\n",
        "        if re.search(pattern, text):\n",
        "            return True\n",
        "\n",
        "    # Try identifying the programming language using Pygments\n",
        "    try:\n",
        "        lexer = guess_lexer(text)\n",
        "        return True if lexer else False\n",
        "    except ClassNotFound:\n",
        "        return False\n",
        "\n",
        "def detect_code_in_file(file_path):\n",
        "    \"\"\"Detect if a given file contains code\"\"\"\n",
        "    kind = filetype.guess(file_path)\n",
        "\n",
        "    if kind is None:\n",
        "        return \"Unknown file type\"\n",
        "\n",
        "    extracted_text = \"\"\n",
        "\n",
        "    if kind.mime.startswith(\"image\"):\n",
        "        extracted_text = extract_text_from_image(file_path)\n",
        "    elif kind.mime == \"application/pdf\":\n",
        "        extracted_text = extract_text_from_pdf(file_path)\n",
        "    else:\n",
        "        return f\"Unsupported file type: {kind.mime}\"\n",
        "\n",
        "    contains_code = is_code(extracted_text)\n",
        "\n",
        "    return {\n",
        "        \"file\": file_path,\n",
        "        \"contains_code\": contains_code,\n",
        "        \"extracted_text\": extracted_text[:500]  # Show first 500 chars as preview\n",
        "    }\n",
        "\n",
        "# Example Usage\n",
        "if __name__ == \"__main__\":\n",
        "    file_path = \"/content/godaddy.png\"  # Change this to your file path\n",
        "    result = detect_code_in_file(file_path)\n",
        "    print(result)\n"
      ]
    },
    {
      "cell_type": "code",
      "source": [
        "!pip install filetype\n"
      ],
      "metadata": {
        "colab": {
          "base_uri": "https://localhost:8080/"
        },
        "id": "yYv5tPhw2Qbp",
        "outputId": "b932b4a6-3f86-43cb-97e2-1fd3231840c2"
      },
      "execution_count": 11,
      "outputs": [
        {
          "output_type": "stream",
          "name": "stdout",
          "text": [
            "Collecting filetype\n",
            "  Downloading filetype-1.2.0-py2.py3-none-any.whl.metadata (6.5 kB)\n",
            "Downloading filetype-1.2.0-py2.py3-none-any.whl (19 kB)\n",
            "Installing collected packages: filetype\n",
            "Successfully installed filetype-1.2.0\n"
          ]
        }
      ]
    },
    {
      "cell_type": "code",
      "source": [
        "!pip install pymupdf\n"
      ],
      "metadata": {
        "colab": {
          "base_uri": "https://localhost:8080/"
        },
        "id": "S9JnI3Yx2FQC",
        "outputId": "84a9c4c9-15d5-42b2-b3aa-d699d9a23590"
      },
      "execution_count": 9,
      "outputs": [
        {
          "output_type": "stream",
          "name": "stdout",
          "text": [
            "Collecting pymupdf\n",
            "  Downloading pymupdf-1.25.3-cp39-abi3-manylinux2014_x86_64.manylinux_2_17_x86_64.whl.metadata (3.4 kB)\n",
            "Downloading pymupdf-1.25.3-cp39-abi3-manylinux2014_x86_64.manylinux_2_17_x86_64.whl (20.0 MB)\n",
            "\u001b[2K   \u001b[90m━━━━━━━━━━━━━━━━━━━━━━━━━━━━━━━━━━━━━━━━\u001b[0m \u001b[32m20.0/20.0 MB\u001b[0m \u001b[31m64.3 MB/s\u001b[0m eta \u001b[36m0:00:00\u001b[0m\n",
            "\u001b[?25hInstalling collected packages: pymupdf\n",
            "Successfully installed pymupdf-1.25.3\n"
          ]
        }
      ]
    },
    {
      "cell_type": "code",
      "source": [
        "!sudo apt install tesseract-ocr\n"
      ],
      "metadata": {
        "colab": {
          "base_uri": "https://localhost:8080/"
        },
        "id": "4KTqM7hW0BI3",
        "outputId": "c720f802-c7aa-4445-90cc-34c3a5c785e4"
      },
      "execution_count": 3,
      "outputs": [
        {
          "output_type": "stream",
          "name": "stdout",
          "text": [
            "Reading package lists... Done\n",
            "Building dependency tree... Done\n",
            "Reading state information... Done\n",
            "The following additional packages will be installed:\n",
            "  tesseract-ocr-eng tesseract-ocr-osd\n",
            "The following NEW packages will be installed:\n",
            "  tesseract-ocr tesseract-ocr-eng tesseract-ocr-osd\n",
            "0 upgraded, 3 newly installed, 0 to remove and 20 not upgraded.\n",
            "Need to get 4,816 kB of archives.\n",
            "After this operation, 15.6 MB of additional disk space will be used.\n",
            "Get:1 http://archive.ubuntu.com/ubuntu jammy/universe amd64 tesseract-ocr-eng all 1:4.00~git30-7274cfa-1.1 [1,591 kB]\n",
            "Get:2 http://archive.ubuntu.com/ubuntu jammy/universe amd64 tesseract-ocr-osd all 1:4.00~git30-7274cfa-1.1 [2,990 kB]\n",
            "Get:3 http://archive.ubuntu.com/ubuntu jammy/universe amd64 tesseract-ocr amd64 4.1.1-2.1build1 [236 kB]\n",
            "Fetched 4,816 kB in 1s (3,985 kB/s)\n",
            "debconf: unable to initialize frontend: Dialog\n",
            "debconf: (No usable dialog-like program is installed, so the dialog based frontend cannot be used. at /usr/share/perl5/Debconf/FrontEnd/Dialog.pm line 78, <> line 3.)\n",
            "debconf: falling back to frontend: Readline\n",
            "debconf: unable to initialize frontend: Readline\n",
            "debconf: (This frontend requires a controlling tty.)\n",
            "debconf: falling back to frontend: Teletype\n",
            "dpkg-preconfigure: unable to re-open stdin: \n",
            "Selecting previously unselected package tesseract-ocr-eng.\n",
            "(Reading database ... 124926 files and directories currently installed.)\n",
            "Preparing to unpack .../tesseract-ocr-eng_1%3a4.00~git30-7274cfa-1.1_all.deb ...\n",
            "Unpacking tesseract-ocr-eng (1:4.00~git30-7274cfa-1.1) ...\n",
            "Selecting previously unselected package tesseract-ocr-osd.\n",
            "Preparing to unpack .../tesseract-ocr-osd_1%3a4.00~git30-7274cfa-1.1_all.deb ...\n",
            "Unpacking tesseract-ocr-osd (1:4.00~git30-7274cfa-1.1) ...\n",
            "Selecting previously unselected package tesseract-ocr.\n",
            "Preparing to unpack .../tesseract-ocr_4.1.1-2.1build1_amd64.deb ...\n",
            "Unpacking tesseract-ocr (4.1.1-2.1build1) ...\n",
            "Setting up tesseract-ocr-eng (1:4.00~git30-7274cfa-1.1) ...\n",
            "Setting up tesseract-ocr-osd (1:4.00~git30-7274cfa-1.1) ...\n",
            "Setting up tesseract-ocr (4.1.1-2.1build1) ...\n",
            "Processing triggers for man-db (2.10.2-1) ...\n"
          ]
        }
      ]
    },
    {
      "cell_type": "code",
      "source": [
        "!pip install pytesseract\n"
      ],
      "metadata": {
        "colab": {
          "base_uri": "https://localhost:8080/"
        },
        "id": "c8ViF7hOy5F7",
        "outputId": "16106190-4974-470c-c722-d7bcae0ca7c5"
      },
      "execution_count": 5,
      "outputs": [
        {
          "output_type": "stream",
          "name": "stdout",
          "text": [
            "Collecting pytesseract\n",
            "  Downloading pytesseract-0.3.13-py3-none-any.whl.metadata (11 kB)\n",
            "Requirement already satisfied: packaging>=21.3 in /usr/local/lib/python3.11/dist-packages (from pytesseract) (24.2)\n",
            "Requirement already satisfied: Pillow>=8.0.0 in /usr/local/lib/python3.11/dist-packages (from pytesseract) (11.1.0)\n",
            "Downloading pytesseract-0.3.13-py3-none-any.whl (14 kB)\n",
            "Installing collected packages: pytesseract\n",
            "Successfully installed pytesseract-0.3.13\n"
          ]
        }
      ]
    },
    {
      "cell_type": "code",
      "source": [
        "from google.colab import drive\n",
        "drive.mount('/content/drive')"
      ],
      "metadata": {
        "colab": {
          "base_uri": "https://localhost:8080/"
        },
        "id": "iHBfyydAy77H",
        "outputId": "043078ca-dcd7-4dc3-99f2-a17eae898aa9"
      },
      "execution_count": 1,
      "outputs": [
        {
          "output_type": "stream",
          "name": "stdout",
          "text": [
            "Mounted at /content/drive\n"
          ]
        }
      ]
    },
    {
      "cell_type": "code",
      "source": [
        "!python -m pip show pytesseract pymupdf pillow filetype pygments\n"
      ],
      "metadata": {
        "colab": {
          "base_uri": "https://localhost:8080/"
        },
        "id": "a9ol1h0NzANX",
        "outputId": "8f6d6e33-b986-457e-f8a8-d5c138bacb61"
      },
      "execution_count": 7,
      "outputs": [
        {
          "output_type": "stream",
          "name": "stdout",
          "text": [
            "\u001b[33mWARNING: Package(s) not found: filetype, pymupdf\u001b[0m\u001b[33m\n",
            "\u001b[0mName: pytesseract\n",
            "Version: 0.3.13\n",
            "Summary: Python-tesseract is a python wrapper for Google's Tesseract-OCR\n",
            "Home-page: https://github.com/madmaze/pytesseract\n",
            "Author: Samuel Hoffstaetter\n",
            "Author-email: samuel@hoffstaetter.com\n",
            "License: Apache License 2.0\n",
            "Location: /usr/local/lib/python3.11/dist-packages\n",
            "Requires: packaging, Pillow\n",
            "Required-by: \n",
            "---\n",
            "Name: pillow\n",
            "Version: 11.1.0\n",
            "Summary: Python Imaging Library (Fork)\n",
            "Home-page: https://python-pillow.github.io\n",
            "Author: \n",
            "Author-email: \"Jeffrey A. Clark\" <aclark@aclark.net>\n",
            "License: MIT-CMU\n",
            "Location: /usr/local/lib/python3.11/dist-packages\n",
            "Requires: \n",
            "Required-by: bokeh, diffusers, dopamine_rl, fastai, imageio, imgaug, matplotlib, pytesseract, scikit-image, sentence-transformers, torchvision, wordcloud\n",
            "---\n",
            "Name: Pygments\n",
            "Version: 2.18.0\n",
            "Summary: Pygments is a syntax highlighting package written in Python.\n",
            "Home-page: https://pygments.org\n",
            "Author: \n",
            "Author-email: Georg Brandl <georg@python.org>\n",
            "License: BSD-2-Clause\n",
            "Location: /usr/local/lib/python3.11/dist-packages\n",
            "Requires: \n",
            "Required-by: ipython, jupyter-console, nbconvert, rich, Sphinx\n"
          ]
        }
      ]
    }
  ]
}